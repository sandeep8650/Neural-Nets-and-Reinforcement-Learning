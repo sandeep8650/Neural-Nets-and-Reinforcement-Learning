{
  "nbformat": 4,
  "nbformat_minor": 0,
  "metadata": {
    "colab": {
      "name": "cnn.ipynb",
      "version": "0.3.2",
      "provenance": [],
      "collapsed_sections": [],
      "toc_visible": true
    },
    "kernelspec": {
      "display_name": "Python 3",
      "language": "python",
      "name": "python3"
    },
    "accelerator": "GPU"
  },
  "cells": [
    {
      "metadata": {
        "id": "3GuQLu9_kJuC",
        "colab_type": "text"
      },
      "cell_type": "markdown",
      "source": [
        "# CNN Implementation using Numpy"
      ]
    },
    {
      "metadata": {
        "id": "bcuN3uiYkJuL",
        "colab_type": "code",
        "colab": {}
      },
      "cell_type": "code",
      "source": [
        "import random\n",
        "import numpy as np\n",
        "import matplotlib\n",
        "from matplotlib import pyplot as plt\n",
        "\n",
        "from google.colab import drive\n",
        "drive.mount('/gdrive')"
      ],
      "execution_count": 0,
      "outputs": []
    },
    {
      "metadata": {
        "id": "rX3bXGY4kJum",
        "colab_type": "text"
      },
      "cell_type": "markdown",
      "source": [
        "## 1. MNIST Data preparation"
      ]
    },
    {
      "metadata": {
        "id": "W5S0KDIZkJuq",
        "colab_type": "code",
        "colab": {
          "base_uri": "https://localhost:8080/",
          "height": 34
        },
        "outputId": "5f88b9fd-7b44-4ff1-aa5e-9bdef0362a53"
      },
      "cell_type": "code",
      "source": [
        "mnist = np.load(\"/gdrive/My Drive/Colab Notebooks/mnist.npz\")\n",
        "mnist.keys()"
      ],
      "execution_count": 3,
      "outputs": [
        {
          "output_type": "execute_result",
          "data": {
            "text/plain": [
              "['x_test', 'x_train', 'y_train', 'y_test']"
            ]
          },
          "metadata": {
            "tags": []
          },
          "execution_count": 3
        }
      ]
    },
    {
      "metadata": {
        "id": "W4jWVVLmkJvC",
        "colab_type": "code",
        "colab": {
          "base_uri": "https://localhost:8080/",
          "height": 52
        },
        "outputId": "eaa12642-0dec-475a-ad4a-fcd32f0b851c"
      },
      "cell_type": "code",
      "source": [
        "x_train = mnist[\"x_train\"]\n",
        "y_train = mnist[\"y_train\"]\n",
        "x_test = mnist[\"x_test\"]\n",
        "y_test = mnist[\"y_test\"]\n",
        "#Data normalization\n",
        "x_train = x_train.astype('float64')\n",
        "x_test = x_test.astype('float64')\n",
        "x_train -= np.mean(x_train,axis=0)\n",
        "x_test -= np.mean(x_test,axis=0)\n",
        "\n",
        "#reshaping channels\n",
        "N,h,w = x_train.shape\n",
        "x_train = x_train.reshape((N,h,w,1))\n",
        "N,h,w = x_test.shape\n",
        "x_test = x_test.reshape((N,h,w,1))\n",
        "\n",
        "print(\"x_train shape:\",x_train.shape)\n",
        "print(\"x_test shape:\",x_test.shape)"
      ],
      "execution_count": 4,
      "outputs": [
        {
          "output_type": "stream",
          "text": [
            "x_train shape: (60000, 28, 28, 1)\n",
            "x_test shape: (10000, 28, 28, 1)\n"
          ],
          "name": "stdout"
        }
      ]
    },
    {
      "metadata": {
        "id": "uAE5xc0QkJvZ",
        "colab_type": "text"
      },
      "cell_type": "markdown",
      "source": [
        "## 2. Smaller dataset for training on local machine"
      ]
    },
    {
      "metadata": {
        "id": "O5jt04KWkJvg",
        "colab_type": "code",
        "colab": {}
      },
      "cell_type": "code",
      "source": [
        "N_train = 6000\n",
        "X_train = x_train[:N_train]\n",
        "Y_train = y_train[:N_train]\n",
        "N_test = 1000\n",
        "X_test = x_test[:N_test]\n",
        "Y_test = y_test[:N_test]"
      ],
      "execution_count": 0,
      "outputs": []
    },
    {
      "metadata": {
        "id": "z0ZYACqykJvr",
        "colab_type": "text"
      },
      "cell_type": "markdown",
      "source": [
        "## 3. Utility functions"
      ]
    },
    {
      "metadata": {
        "id": "_hZOcdoskJvw",
        "colab_type": "text"
      },
      "cell_type": "markdown",
      "source": [
        "### a) Img2col function"
      ]
    },
    {
      "metadata": {
        "id": "1A-xtjQekJv1",
        "colab_type": "code",
        "colab": {}
      },
      "cell_type": "code",
      "source": [
        "def img2col_indices(input_shape,filter_height,filter_width,stride=1):\n",
        "    #input_shape: (H=height,W=width,D=depth)\n",
        "    input_channels = input_shape[2];\n",
        "    F_h = filter_height\n",
        "    F_w = filter_width\n",
        "    \n",
        "    assert((input_shape[1]-F_w)%stride==0)\n",
        "    assert((input_shape[0]-F_h)%stride==0)\n",
        "    \n",
        "    w_out = (input_shape[1]-F_w)//stride + 1\n",
        "    h_out = (input_shape[0]-F_h)//stride + 1\n",
        "    \n",
        "    L = w_out*h_out\n",
        "    \n",
        "    i = np.tile(np.repeat(np.arange(F_h),F_w),L*input_channels) + \\\n",
        "        np.repeat(np.arange(h_out),F_h*F_w*w_out*input_channels)*stride\n",
        "    \n",
        "    j = np.tile(np.arange(F_w),F_h*L*input_channels) + \\\n",
        "        np.tile(np.repeat(np.arange(w_out),F_h*F_w*input_channels),h_out)*stride\n",
        "    \n",
        "    k = np.tile(np.repeat(np.arange(input_channels),F_h*F_w),L)\n",
        "    return i,j,k\n",
        "\n",
        "def img2col(X,filter_height,filter_width,stride=1,padding=0):\n",
        "    #X shape: (N=number of images,H,W,D)\n",
        "    (N,H,W,D) = X.shape\n",
        "    Y = np.zeros((N,H+2*padding,W+2*padding,D))\n",
        "    Y[:,padding:padding+H,padding:padding+W,:] = X\n",
        "    X = Y\n",
        "    indices = img2col_indices(X[0].shape,filter_height,filter_width,stride) #get Index array\n",
        "    channel = D #Number of channels in input\n",
        "    X_row = X[:,indices[0],indices[1],indices[2]]\n",
        "    X_col = np.transpose(X_row.reshape((N,-1,filter_width*filter_height*channel)),(0,2,1))\n",
        "    return X_col"
      ],
      "execution_count": 0,
      "outputs": []
    },
    {
      "metadata": {
        "id": "udmlOaDEkJwJ",
        "colab_type": "code",
        "colab": {}
      },
      "cell_type": "code",
      "source": [
        "def kernel2col(W):\n",
        "    #input parameter kernel of shape (no. of filters, height,width,channels or depth)\n",
        "    #W_ = np.transpose(W,(3,0,1,2))\n",
        "    (K,F_h,F_w,D)=W.shape\n",
        "    W_col = img2col(W,F_h,F_w) #parameter filter_size = size of input\n",
        "    W_col = np.squeeze(W_col).T\n",
        "    return W_col"
      ],
      "execution_count": 0,
      "outputs": []
    },
    {
      "metadata": {
        "id": "xhaExj2DkJwY",
        "colab_type": "text"
      },
      "cell_type": "markdown",
      "source": [
        "### b) Convolution Feedforward"
      ]
    },
    {
      "metadata": {
        "id": "OEPgiTv4kJwc",
        "colab_type": "code",
        "colab": {}
      },
      "cell_type": "code",
      "source": [
        "def conv_forward(X,W,bias=0,stride=1,padding=0):\n",
        "    #shape of bias: (1,K)\n",
        "    \n",
        "    N,w,h,c = X.shape\n",
        "    K,filter_height,filter_width,d = W.shape\n",
        "    \n",
        "    assert(c==d)\n",
        "    X_col = img2col(X,filter_height,filter_width,stride,padding)\n",
        "    W_col = kernel2col(W)\n",
        "    \n",
        "    assert(bias.shape[1]==W.shape[0])\n",
        "    #convolution\n",
        "    Z_col = np.dot(np.transpose(X_col,(0,2,1)),W_col) + bias\n",
        "    \n",
        "    assert((w-filter_width+2*padding)%stride==0)\n",
        "    assert((h-filter_height+2*padding)%stride==0)\n",
        "    \n",
        "    w_out = (w-filter_width+2*padding)//stride + 1\n",
        "    h_out = (h-filter_height+2*padding)//stride + 1\n",
        "    \n",
        "    #Z = col2img(Z_col,h_out,w_out)\n",
        "    Z =  Z_col.reshape(Z_col.shape[0],h_out,w_out,Z_col.shape[2])\n",
        "    return Z"
      ],
      "execution_count": 0,
      "outputs": []
    },
    {
      "metadata": {
        "id": "FwdOXGa_kJwu",
        "colab_type": "text"
      },
      "cell_type": "markdown",
      "source": [
        "### c) Convolution Backprop"
      ]
    },
    {
      "metadata": {
        "id": "0ktnhyn6kJw2",
        "colab_type": "code",
        "colab": {}
      },
      "cell_type": "code",
      "source": [
        "def img2col_backward(X,filter_height,filter_width,stride=1,padding=0):\n",
        "    #X shape: (N=batch size,C=number of images in one set,H,W,D=1)\n",
        "    N,C,H,W,D = X.shape\n",
        "    Y = np.zeros((N,C,H+2*padding,W+2*padding,D))\n",
        "    Y[:,:,padding:padding+H,padding:padding+W,:] = X\n",
        "    X = Y\n",
        "    indices = img2col_indices((H+2*padding,W+2*padding,D),filter_height,filter_width,stride) #get Index array\n",
        "    channel = D #Number of channels in input\n",
        "    X_row = X[:,:,indices[0],indices[1],indices[2]]\n",
        "    X_col = np.transpose(X_row.reshape((N,C,-1,filter_height*filter_width*channel)),(0,1,3,2))\n",
        "    return X_col\n",
        "\n",
        "def kernel2col_backward(W):\n",
        "    N,K,h,w,D = W.shape\n",
        "    W_col = img2col_backward(W,h,w) #parameter filter_size = size of input\n",
        "    #print(\"W_col shape: \",W_col.shape)\n",
        "    W_col = np.squeeze(W_col,axis=3).transpose((0,2,1))\n",
        "    shp = W_col.shape\n",
        "    #print(shp)\n",
        "    assert(N==shp[0])\n",
        "    assert(h*w==shp[1])\n",
        "    assert(K==shp[2])\n",
        "    return W_col\n",
        "\n",
        "def conv_backward(X,W,dZ,stride=1,padding=0):\n",
        "    \"\"\"@Shape of X:(N,h,w,c)\n",
        "       @Shape of dZ:(N,h_out,h_out,K)\n",
        "                   K=number of filters\n",
        "       @Returns: dW,db,dX \n",
        "    \"\"\"\n",
        "    N1,h,w,c = X.shape\n",
        "    K,F_h,F_w,c = W.shape\n",
        "    N2,h_out,w_out,K = dZ.shape\n",
        "    \n",
        "    assert(N1==N2)\n",
        "    X_ = (np.transpose(X,(0,3,1,2))).reshape((N1,c,h,w,1))\n",
        "    dZ_ = (np.transpose(dZ,(0,3,1,2))).reshape((N2,K,h_out,w_out,1))\n",
        "    \n",
        "    X_col = img2col_backward(X_,h_out,w_out,stride,padding)\n",
        "    dZ_col = kernel2col_backward(dZ_)\n",
        "    \n",
        "    dW = np.einsum('ijkl,ilm->ijkm',X_col.transpose((0,1,3,2)),dZ_col)\n",
        "    F_h = (h-h_out)//stride + 1\n",
        "    F_w = (w-w_out)//stride + 1\n",
        "    dW = np.transpose(dW.reshape((N1,c,F_h,F_w,K)),(0,4,2,3,1))\n",
        "    dW = 1/N1*(np.sum(dW,axis=0))\n",
        "    \n",
        "    db = 1/N2*( np.sum(dZ,(0,1,2)).reshape((1,-1)) )\n",
        "    \n",
        "    #for calculating dX\n",
        "    dZ_ = (np.transpose(dZ,(0,3,1,2))).reshape((N2,K,h_out,w_out,1))\n",
        "    dZ_col = img2col_backward(dZ_,F_h,F_w,1,F_h-1)\n",
        "    assert(dZ_col.shape[0]==N2)\n",
        "    assert(dZ_col.shape[1]==K)\n",
        "    assert(dZ_col.shape[2]==F_h*F_w) #F_h=F_w    \n",
        "    assert(dZ_col.shape[3]==h*w)\n",
        "    \n",
        "    #reshaping and flipping kernels\n",
        "    W_ = np.transpose(W,(0,3,1,2)).reshape((K,c,F_h,F_w,1))\n",
        "    W_ = np.flip(W_,2)\n",
        "    W_ = np.flip(W_,3)\n",
        "    \n",
        "    W_col = kernel2col_backward(W_)\n",
        "    assert(W_col.shape[0]==K)\n",
        "    assert(W_col.shape[1]==F_h*F_w)\n",
        "    assert(W_col.shape[2]==c)\n",
        "    \n",
        "    dX = np.empty((N2,K,h*w,c))\n",
        "    for i in range(N2):\n",
        "        for j in range(K):\n",
        "            dX[i,j] = np.dot(dZ_col[i,j].T,W_col[j])\n",
        "    \n",
        "    dX = dX.reshape((N1,K,h,w,c))\n",
        "    dX = np.sum(dX,axis=1)\n",
        "    assert(dX.shape==X.shape)\n",
        "    return dW, db, dX"
      ],
      "execution_count": 0,
      "outputs": []
    },
    {
      "metadata": {
        "id": "DfKqj4ImkJxH",
        "colab_type": "text"
      },
      "cell_type": "markdown",
      "source": [
        "### d) ReLu Feedforward and Backprop"
      ]
    },
    {
      "metadata": {
        "id": "WAM5elEhkJxK",
        "colab_type": "code",
        "colab": {}
      },
      "cell_type": "code",
      "source": [
        "def ReLu_forward(X):\n",
        "    Z = np.maximum(X,0)\n",
        "    return Z\n",
        "\n",
        "def ReLu_backward(X,dZ):\n",
        "    assert(X.shape==dZ.shape)\n",
        "    dX = np.multiply(dZ,X>0)\n",
        "    return dX"
      ],
      "execution_count": 0,
      "outputs": []
    },
    {
      "metadata": {
        "id": "r2WyTsbDkJxY",
        "colab_type": "text"
      },
      "cell_type": "markdown",
      "source": [
        "### e) MaxPool Feedforward"
      ]
    },
    {
      "metadata": {
        "id": "1-nN34n-kJxc",
        "colab_type": "code",
        "colab": {}
      },
      "cell_type": "code",
      "source": [
        "def maxPool_forward(X,filter_size=2,stride=2):\n",
        "    N,H,W,C = X.shape\n",
        "    F = filter_size\n",
        "    #Checking for invalid stride\n",
        "    assert((H-F)%stride==0)\n",
        "    assert((W-F)%stride==0)\n",
        "    w_out = (W-F)//stride + 1\n",
        "    h_out = (H-F)//stride + 1\n",
        "    \n",
        "    #Change depth of input to 1\n",
        "    Z_ = np.transpose(X,(0,3,1,2)).reshape((N*C,H,W,1))\n",
        "    Z_col = img2col(Z_,F,F,stride)\n",
        "    \n",
        "    Z_col = np.transpose(Z_col,(1,0,2)).reshape((4,-1)) #now shape of Z_col is (4,N*C*w_out*h_out)\n",
        "    max_indx = np.argmax(Z_col,axis=0)\n",
        "    \n",
        "    Z = Z_col[max_indx,range(max_indx.size)] #shape (N*C*w_out*h_out,)\n",
        "    \n",
        "    Z = np.transpose(Z.reshape((N,C,h_out,w_out)),(0,2,3,1))\n",
        "    \n",
        "    #just for debugging\n",
        "    N_prime,H_prime,W_prime,C_prime = Z.shape\n",
        "    assert(N_prime==N)\n",
        "    assert(H_prime==h_out)\n",
        "    assert(W_prime==w_out)\n",
        "    assert(C_prime==C)\n",
        "    \n",
        "    return Z, max_indx #shape of max_indx: (N*C*w_out*h_out,)"
      ],
      "execution_count": 0,
      "outputs": []
    },
    {
      "metadata": {
        "id": "z3uDgRjakJxs",
        "colab_type": "text"
      },
      "cell_type": "markdown",
      "source": [
        "### f) MaxPool Backprop"
      ]
    },
    {
      "metadata": {
        "id": "Xjika0YzkJxw",
        "colab_type": "code",
        "colab": {}
      },
      "cell_type": "code",
      "source": [
        "def maxPool_backward(max_indx,dZ):\n",
        "    \"\"\"Shape of max_indx: (N*C*(h/2)*(w/2), )\n",
        "       Shape of dZ: (N,h/2,w/2,C)\n",
        "       returns dX of size (N,h,w,C)\n",
        "    \"\"\"\n",
        "    assert(max_indx.size==dZ.size)\n",
        "    N,Hz,Wz,C = dZ.shape\n",
        "    h = Hz*2\n",
        "    w = Wz*2\n",
        "    dZ = np.transpose(dZ,(0,3,1,2)).reshape((N*C*Hz*Wz,)) #shape: (N*C*(h/2)*(w/2), )\n",
        "    dX_col = np.zeros((4,max_indx.size))\n",
        "    dX_col[max_indx,range(max_indx.size)] = dZ\n",
        "    \n",
        "    #restoring dX(N,h,w,C) from dX_col(4,_) \n",
        "    dX_col = np.transpose(dX_col.reshape((4,N*C,Hz*Wz)),(1,0,2)) #now shape: (N*C,4,(h/2)*(w/2))\n",
        "    \n",
        "    i = np.repeat(np.arange(N*C),4*(h//2)*(w//2))\n",
        "    j = np.tile(np.array([0,1]),2*(h//2)*(w//2))+np.tile(np.repeat(np.array([0,2]),w),h//2)\n",
        "    j = np.tile(j,N*C)\n",
        "    \n",
        "    k = np.tile(np.repeat(np.arange(w//2),2),h)+np.repeat(np.arange(h//2)*(w//2),2*w)\n",
        "    k = np.tile(k,N*C)\n",
        "    \n",
        "    dX = dX_col[i,j,k]\n",
        "    #dX = dX.reshape((N*C,h,w))\n",
        "    dX = np.transpose(dX.reshape((N,C,h,w)),(0,2,3,1)) #now shape is: (N,h,w,C)\n",
        "    \n",
        "    return dX"
      ],
      "execution_count": 0,
      "outputs": []
    },
    {
      "metadata": {
        "id": "9OAOal8okJx9",
        "colab_type": "text"
      },
      "cell_type": "markdown",
      "source": [
        "### g) Fully connected Feedforward and Backprop"
      ]
    },
    {
      "metadata": {
        "id": "7MMrx0wakJyF",
        "colab_type": "code",
        "colab": {}
      },
      "cell_type": "code",
      "source": [
        "def fully_connected_forward(X,W,bias=0):\n",
        "    if len(X.shape)>2:\n",
        "        N,h,w,c = X.shape\n",
        "        X = np.transpose(X.reshape((N,h*w*c)),(1,0))\n",
        "    assert(W.shape[1]==X.shape[0])\n",
        "    Z = np.dot(W,X)+bias\n",
        "    input_shape = (N,h,w,c)\n",
        "    return Z,X,input_shape\n",
        "\n",
        "def fully_connected_backward(X,y,W,prob,input_shape):\n",
        "    _,N = prob.shape\n",
        "    dZ = prob.copy()\n",
        "    dZ[y,np.arange(N)]-=1\n",
        "    \n",
        "    dW = (1/N)*np.dot(dZ,X.T)\n",
        "    db = (1/N)*np.sum(dZ,axis=1,keepdims=True)\n",
        "    dX = np.dot(W.T,dZ)\n",
        "    dX = dX.T.reshape(input_shape)\n",
        "    return dW,db,dX"
      ],
      "execution_count": 0,
      "outputs": []
    },
    {
      "metadata": {
        "id": "mUvVvRT5kJyQ",
        "colab_type": "text"
      },
      "cell_type": "markdown",
      "source": [
        "### h) Softmax"
      ]
    },
    {
      "metadata": {
        "id": "tcXR6B1UkJyT",
        "colab_type": "code",
        "colab": {}
      },
      "cell_type": "code",
      "source": [
        "def softmax(scores,y=None):\n",
        "    C,N = scores.shape\n",
        "    scores = scores-np.max(scores,axis=0)\n",
        "    expProb = np.exp(scores)\n",
        "    prob = expProb/np.sum(expProb,axis=0)\n",
        "    cost=0\n",
        "    if np.any(y!=None):\n",
        "        cost = -(1/N)*np.sum(np.log(prob[y,range(N)]+1e-8))\n",
        "    \n",
        "    return prob,cost"
      ],
      "execution_count": 0,
      "outputs": []
    },
    {
      "metadata": {
        "id": "NjiPodhLkJyc",
        "colab_type": "text"
      },
      "cell_type": "markdown",
      "source": [
        "## 4. convNet Class(Fixed architecture)"
      ]
    },
    {
      "metadata": {
        "id": "mkS03VJDkJym",
        "colab_type": "text"
      },
      "cell_type": "markdown",
      "source": [
        "![Cnn Architecture used](cnn_mnist.jpg\")"
      ]
    },
    {
      "metadata": {
        "id": "ibmx0f75kJyp",
        "colab_type": "text"
      },
      "cell_type": "markdown",
      "source": [
        "### Reference for architecture: https://github.com/zishansami102/CNN-from-Scratch"
      ]
    },
    {
      "metadata": {
        "id": "EjJunXwzkJyu",
        "colab_type": "code",
        "colab": {}
      },
      "cell_type": "code",
      "source": [
        "class convNet:\n",
        "    def __init__(self,stride=1):\n",
        "        self.stride = stride\n",
        "        self.W1 = np.random.randn(8,5,5,1)*0.01\n",
        "        self.b1 = np.zeros((1,8))\n",
        "        self.W2 = np.random.randn(8,5,5,8)*0.01\n",
        "        self.b2 = np.zeros((1,8))\n",
        "        self.W3 = np.random.randn(10,800)*0.01\n",
        "        self.b3 = np.zeros((10,1))\n",
        "        self.cache = [0,0,0,0,0,0]\n",
        "    def feedforward(self,X,y=None):\n",
        "        self.cache[0]=X\n",
        "        Z1 = conv_forward(X,self.W1,self.b1,self.stride)\n",
        "        self.cache[1]=Z1\n",
        "        Z2 = ReLu_forward(Z1)\n",
        "        self.cache[2]=Z2\n",
        "        Z3 = conv_forward(Z2,self.W2,self.b2,self.stride)\n",
        "        self.cache[3]=Z3\n",
        "        Z4 = ReLu_forward(Z3)\n",
        "        Z5,max_indx = maxPool_forward(Z4)\n",
        "        self.cache[4]=max_indx\n",
        "        Z6,z,input_shape = fully_connected_forward(Z5,self.W3,self.b3)\n",
        "        self.cache[5]=(z,input_shape)\n",
        "        prob,cost = softmax(Z6,y)\n",
        "        return prob,cost\n",
        "    \n",
        "    def backprop(self,prob,y):\n",
        "        dZ = 0\n",
        "        grad={}\n",
        "        grad[\"dW3\"],grad[\"db3\"],dZ = fully_connected_backward(self.cache[5][0],y,self.W3,prob,self.cache[5][1])\n",
        "        dZ = maxPool_backward(self.cache[4],dZ.copy())\n",
        "        dZ = ReLu_backward(self.cache[3],dZ.copy())\n",
        "        grad[\"dW2\"],grad[\"db2\"],dZ = conv_backward(self.cache[2],self.W2,dZ,self.stride)\n",
        "        dZ = ReLu_backward(self.cache[1],dZ.copy())\n",
        "        grad[\"dW1\"],grad[\"db1\"],dZ = conv_backward(self.cache[0],self.W1,dZ,self.stride)\n",
        "        \n",
        "        return grad\n",
        "    \n",
        "    def update(self,grad,learning_rate=0.01):\n",
        "        self.W1 = self.W1 - learning_rate*grad[\"dW1\"]\n",
        "        self.W2 = self.W2 - learning_rate*grad[\"dW2\"]\n",
        "        self.W3 = self.W3 - learning_rate*grad[\"dW3\"]\n",
        "        self.b1 = self.b1 - learning_rate*grad[\"db1\"]\n",
        "        self.b2 = self.b2 - learning_rate*grad[\"db2\"]\n",
        "        self.b3 = self.b3 - learning_rate*grad[\"db3\"]\n",
        "    \n",
        "    def train(self,X,y,batch_size=64,learning_rate=0.01,epoch=2):\n",
        "        (N,h,w,c) = X.shape\n",
        "        no_of_batches = N//batch_size\n",
        "        iteration=0\n",
        "        cost_history = [[],[]]\n",
        "        for e in range(epoch):\n",
        "            for b in range(no_of_batches):\n",
        "                index = np.random.randint(0,N,batch_size)\n",
        "                batch = X[index]\n",
        "                batch_y = y[index]\n",
        "                prob,cost = self.feedforward(batch,batch_y)\n",
        "                if(iteration%10==0):\n",
        "                    #np.savez(\"Weights\",W1=self.W1,b1=self.b1,W2=self.W2,b2=self.b2,W3=self.W3,b3=self.b3)\n",
        "                    cost_history[0].append(iteration)\n",
        "                    cost_history[1].append(cost)\n",
        "                    print(\"Epoch \",e,\",Iteration \",iteration,\" Cost:\",cost)\n",
        "                \n",
        "                grad = self.backprop(prob,batch_y)\n",
        "                self.update(grad,learning_rate)\n",
        "                iteration = iteration+1\n",
        "        np.savez(\"trained_model\",stride=self.stride,W1=self.W1,b1=self.b1,W2=self.W2,b2=self.b2,W3=self.W3,b3=self.b3)\n",
        "        return cost_history\n",
        "    \n",
        "    def predict(self,X):\n",
        "        if len(X.shape)==3:\n",
        "            h,w,c = X.shape\n",
        "            X = X.reshape((1,h,w,c))\n",
        "        prob,cost = self.feedforward(X)\n",
        "        pred = np.argmax(prob,axis=0)\n",
        "        return pred\n",
        "    \n",
        "    def load_pretrained_model(self,path):\n",
        "        #Weights format: stride,W1,b1,W2,b2,W3,b3\n",
        "        w = np.load(path)\n",
        "        self.stride = w[\"stride\"]\n",
        "        self.W1 = w[\"W1\"]\n",
        "        self.b1 = w[\"b1\"]\n",
        "        self.W2 = w[\"W2\"]\n",
        "        self.b2 = w[\"b2\"]\n",
        "        self.W3 = w[\"W3\"]\n",
        "        self.b3 = w[\"b3\"]\n",
        "        "
      ],
      "execution_count": 0,
      "outputs": []
    },
    {
      "metadata": {
        "id": "ud1XSnRjkJzU",
        "colab_type": "text"
      },
      "cell_type": "markdown",
      "source": [
        "## 5. Creating convNet object"
      ]
    },
    {
      "metadata": {
        "id": "6zQ9iYPVkJzZ",
        "colab_type": "code",
        "colab": {}
      },
      "cell_type": "code",
      "source": [
        "cnn = convNet()"
      ],
      "execution_count": 0,
      "outputs": []
    },
    {
      "metadata": {
        "id": "ac65OosckJz1",
        "colab_type": "text"
      },
      "cell_type": "markdown",
      "source": [
        "### Training Network"
      ]
    },
    {
      "metadata": {
        "id": "v4r7MfIWkJz6",
        "colab_type": "code",
        "colab": {
          "base_uri": "https://localhost:8080/",
          "height": 707
        },
        "outputId": "a851bb74-be0e-45d0-d609-e0541d10fc5b"
      },
      "cell_type": "code",
      "source": [
        "cost_history = cnn.train(x_train,y_train,batch_size=600,learning_rate=0.01)"
      ],
      "execution_count": 17,
      "outputs": [
        {
          "output_type": "stream",
          "text": [
            "Epoch  0 ,Iteration  0  Cost: 2.3060562193018965\n",
            "Epoch  0 ,Iteration  10  Cost: 2.1204114153908993\n"
          ],
          "name": "stdout"
        },
        {
          "output_type": "error",
          "ename": "KeyboardInterrupt",
          "evalue": "ignored",
          "traceback": [
            "\u001b[0;31m---------------------------------------------------------------------------\u001b[0m",
            "\u001b[0;31mKeyboardInterrupt\u001b[0m                         Traceback (most recent call last)",
            "\u001b[0;32m<ipython-input-17-0ee943882628>\u001b[0m in \u001b[0;36m<module>\u001b[0;34m()\u001b[0m\n\u001b[0;32m----> 1\u001b[0;31m \u001b[0mcost_history\u001b[0m \u001b[0;34m=\u001b[0m \u001b[0mcnn\u001b[0m\u001b[0;34m.\u001b[0m\u001b[0mtrain\u001b[0m\u001b[0;34m(\u001b[0m\u001b[0mx_train\u001b[0m\u001b[0;34m,\u001b[0m\u001b[0my_train\u001b[0m\u001b[0;34m,\u001b[0m\u001b[0mbatch_size\u001b[0m\u001b[0;34m=\u001b[0m\u001b[0;36m600\u001b[0m\u001b[0;34m,\u001b[0m\u001b[0mlearning_rate\u001b[0m\u001b[0;34m=\u001b[0m\u001b[0;36m0.001\u001b[0m\u001b[0;34m)\u001b[0m\u001b[0;34m\u001b[0m\u001b[0m\n\u001b[0m",
            "\u001b[0;32m<ipython-input-15-80aa5340759c>\u001b[0m in \u001b[0;36mtrain\u001b[0;34m(self, X, y, batch_size, learning_rate, epoch)\u001b[0m\n\u001b[1;32m     62\u001b[0m                     \u001b[0mprint\u001b[0m\u001b[0;34m(\u001b[0m\u001b[0;34m\"Epoch \"\u001b[0m\u001b[0;34m,\u001b[0m\u001b[0me\u001b[0m\u001b[0;34m,\u001b[0m\u001b[0;34m\",Iteration \"\u001b[0m\u001b[0;34m,\u001b[0m\u001b[0miteration\u001b[0m\u001b[0;34m,\u001b[0m\u001b[0;34m\" Cost:\"\u001b[0m\u001b[0;34m,\u001b[0m\u001b[0mcost\u001b[0m\u001b[0;34m)\u001b[0m\u001b[0;34m\u001b[0m\u001b[0m\n\u001b[1;32m     63\u001b[0m \u001b[0;34m\u001b[0m\u001b[0m\n\u001b[0;32m---> 64\u001b[0;31m                 \u001b[0mgrad\u001b[0m \u001b[0;34m=\u001b[0m \u001b[0mself\u001b[0m\u001b[0;34m.\u001b[0m\u001b[0mbackprop\u001b[0m\u001b[0;34m(\u001b[0m\u001b[0mprob\u001b[0m\u001b[0;34m,\u001b[0m\u001b[0mbatch_y\u001b[0m\u001b[0;34m)\u001b[0m\u001b[0;34m\u001b[0m\u001b[0m\n\u001b[0m\u001b[1;32m     65\u001b[0m                 \u001b[0mself\u001b[0m\u001b[0;34m.\u001b[0m\u001b[0mupdate\u001b[0m\u001b[0;34m(\u001b[0m\u001b[0mgrad\u001b[0m\u001b[0;34m,\u001b[0m\u001b[0mlearning_rate\u001b[0m\u001b[0;34m)\u001b[0m\u001b[0;34m\u001b[0m\u001b[0m\n\u001b[1;32m     66\u001b[0m                 \u001b[0miteration\u001b[0m \u001b[0;34m=\u001b[0m \u001b[0miteration\u001b[0m\u001b[0;34m+\u001b[0m\u001b[0;36m1\u001b[0m\u001b[0;34m\u001b[0m\u001b[0m\n",
            "\u001b[0;32m<ipython-input-15-80aa5340759c>\u001b[0m in \u001b[0;36mbackprop\u001b[0;34m(self, prob, y)\u001b[0m\n\u001b[1;32m     31\u001b[0m         \u001b[0mdZ\u001b[0m \u001b[0;34m=\u001b[0m \u001b[0mmaxPool_backward\u001b[0m\u001b[0;34m(\u001b[0m\u001b[0mself\u001b[0m\u001b[0;34m.\u001b[0m\u001b[0mcache\u001b[0m\u001b[0;34m[\u001b[0m\u001b[0;36m4\u001b[0m\u001b[0;34m]\u001b[0m\u001b[0;34m,\u001b[0m\u001b[0mdZ\u001b[0m\u001b[0;34m.\u001b[0m\u001b[0mcopy\u001b[0m\u001b[0;34m(\u001b[0m\u001b[0;34m)\u001b[0m\u001b[0;34m)\u001b[0m\u001b[0;34m\u001b[0m\u001b[0m\n\u001b[1;32m     32\u001b[0m         \u001b[0mdZ\u001b[0m \u001b[0;34m=\u001b[0m \u001b[0mReLu_backward\u001b[0m\u001b[0;34m(\u001b[0m\u001b[0mself\u001b[0m\u001b[0;34m.\u001b[0m\u001b[0mcache\u001b[0m\u001b[0;34m[\u001b[0m\u001b[0;36m3\u001b[0m\u001b[0;34m]\u001b[0m\u001b[0;34m,\u001b[0m\u001b[0mdZ\u001b[0m\u001b[0;34m.\u001b[0m\u001b[0mcopy\u001b[0m\u001b[0;34m(\u001b[0m\u001b[0;34m)\u001b[0m\u001b[0;34m)\u001b[0m\u001b[0;34m\u001b[0m\u001b[0m\n\u001b[0;32m---> 33\u001b[0;31m         \u001b[0mgrad\u001b[0m\u001b[0;34m[\u001b[0m\u001b[0;34m\"dW2\"\u001b[0m\u001b[0;34m]\u001b[0m\u001b[0;34m,\u001b[0m\u001b[0mgrad\u001b[0m\u001b[0;34m[\u001b[0m\u001b[0;34m\"db2\"\u001b[0m\u001b[0;34m]\u001b[0m\u001b[0;34m,\u001b[0m\u001b[0mdZ\u001b[0m \u001b[0;34m=\u001b[0m \u001b[0mconv_backward\u001b[0m\u001b[0;34m(\u001b[0m\u001b[0mself\u001b[0m\u001b[0;34m.\u001b[0m\u001b[0mcache\u001b[0m\u001b[0;34m[\u001b[0m\u001b[0;36m2\u001b[0m\u001b[0;34m]\u001b[0m\u001b[0;34m,\u001b[0m\u001b[0mself\u001b[0m\u001b[0;34m.\u001b[0m\u001b[0mW2\u001b[0m\u001b[0;34m,\u001b[0m\u001b[0mdZ\u001b[0m\u001b[0;34m,\u001b[0m\u001b[0mself\u001b[0m\u001b[0;34m.\u001b[0m\u001b[0mstride\u001b[0m\u001b[0;34m)\u001b[0m\u001b[0;34m\u001b[0m\u001b[0m\n\u001b[0m\u001b[1;32m     34\u001b[0m         \u001b[0mdZ\u001b[0m \u001b[0;34m=\u001b[0m \u001b[0mReLu_backward\u001b[0m\u001b[0;34m(\u001b[0m\u001b[0mself\u001b[0m\u001b[0;34m.\u001b[0m\u001b[0mcache\u001b[0m\u001b[0;34m[\u001b[0m\u001b[0;36m1\u001b[0m\u001b[0;34m]\u001b[0m\u001b[0;34m,\u001b[0m\u001b[0mdZ\u001b[0m\u001b[0;34m.\u001b[0m\u001b[0mcopy\u001b[0m\u001b[0;34m(\u001b[0m\u001b[0;34m)\u001b[0m\u001b[0;34m)\u001b[0m\u001b[0;34m\u001b[0m\u001b[0m\n\u001b[1;32m     35\u001b[0m         \u001b[0mgrad\u001b[0m\u001b[0;34m[\u001b[0m\u001b[0;34m\"dW1\"\u001b[0m\u001b[0;34m]\u001b[0m\u001b[0;34m,\u001b[0m\u001b[0mgrad\u001b[0m\u001b[0;34m[\u001b[0m\u001b[0;34m\"db1\"\u001b[0m\u001b[0;34m]\u001b[0m\u001b[0;34m,\u001b[0m\u001b[0mdZ\u001b[0m \u001b[0;34m=\u001b[0m \u001b[0mconv_backward\u001b[0m\u001b[0;34m(\u001b[0m\u001b[0mself\u001b[0m\u001b[0;34m.\u001b[0m\u001b[0mcache\u001b[0m\u001b[0;34m[\u001b[0m\u001b[0;36m0\u001b[0m\u001b[0;34m]\u001b[0m\u001b[0;34m,\u001b[0m\u001b[0mself\u001b[0m\u001b[0;34m.\u001b[0m\u001b[0mW1\u001b[0m\u001b[0;34m,\u001b[0m\u001b[0mdZ\u001b[0m\u001b[0;34m,\u001b[0m\u001b[0mself\u001b[0m\u001b[0;34m.\u001b[0m\u001b[0mstride\u001b[0m\u001b[0;34m)\u001b[0m\u001b[0;34m\u001b[0m\u001b[0m\n",
            "\u001b[0;32m<ipython-input-9-adeeca4128e5>\u001b[0m in \u001b[0;36mconv_backward\u001b[0;34m(X, W, dZ, stride, padding)\u001b[0m\n\u001b[1;32m     50\u001b[0m     \u001b[0;31m#for calculating dX\u001b[0m\u001b[0;34m\u001b[0m\u001b[0;34m\u001b[0m\u001b[0m\n\u001b[1;32m     51\u001b[0m     \u001b[0mdZ_\u001b[0m \u001b[0;34m=\u001b[0m \u001b[0;34m(\u001b[0m\u001b[0mnp\u001b[0m\u001b[0;34m.\u001b[0m\u001b[0mtranspose\u001b[0m\u001b[0;34m(\u001b[0m\u001b[0mdZ\u001b[0m\u001b[0;34m,\u001b[0m\u001b[0;34m(\u001b[0m\u001b[0;36m0\u001b[0m\u001b[0;34m,\u001b[0m\u001b[0;36m3\u001b[0m\u001b[0;34m,\u001b[0m\u001b[0;36m1\u001b[0m\u001b[0;34m,\u001b[0m\u001b[0;36m2\u001b[0m\u001b[0;34m)\u001b[0m\u001b[0;34m)\u001b[0m\u001b[0;34m)\u001b[0m\u001b[0;34m.\u001b[0m\u001b[0mreshape\u001b[0m\u001b[0;34m(\u001b[0m\u001b[0;34m(\u001b[0m\u001b[0mN2\u001b[0m\u001b[0;34m,\u001b[0m\u001b[0mK\u001b[0m\u001b[0;34m,\u001b[0m\u001b[0mh_out\u001b[0m\u001b[0;34m,\u001b[0m\u001b[0mw_out\u001b[0m\u001b[0;34m,\u001b[0m\u001b[0;36m1\u001b[0m\u001b[0;34m)\u001b[0m\u001b[0;34m)\u001b[0m\u001b[0;34m\u001b[0m\u001b[0m\n\u001b[0;32m---> 52\u001b[0;31m     \u001b[0mdZ_col\u001b[0m \u001b[0;34m=\u001b[0m \u001b[0mimg2col_backward\u001b[0m\u001b[0;34m(\u001b[0m\u001b[0mdZ_\u001b[0m\u001b[0;34m,\u001b[0m\u001b[0mF_h\u001b[0m\u001b[0;34m,\u001b[0m\u001b[0mF_w\u001b[0m\u001b[0;34m,\u001b[0m\u001b[0;36m1\u001b[0m\u001b[0;34m,\u001b[0m\u001b[0mF_h\u001b[0m\u001b[0;34m-\u001b[0m\u001b[0;36m1\u001b[0m\u001b[0;34m)\u001b[0m\u001b[0;34m\u001b[0m\u001b[0m\n\u001b[0m\u001b[1;32m     53\u001b[0m     \u001b[0;32massert\u001b[0m\u001b[0;34m(\u001b[0m\u001b[0mdZ_col\u001b[0m\u001b[0;34m.\u001b[0m\u001b[0mshape\u001b[0m\u001b[0;34m[\u001b[0m\u001b[0;36m0\u001b[0m\u001b[0;34m]\u001b[0m\u001b[0;34m==\u001b[0m\u001b[0mN2\u001b[0m\u001b[0;34m)\u001b[0m\u001b[0;34m\u001b[0m\u001b[0m\n\u001b[1;32m     54\u001b[0m     \u001b[0;32massert\u001b[0m\u001b[0;34m(\u001b[0m\u001b[0mdZ_col\u001b[0m\u001b[0;34m.\u001b[0m\u001b[0mshape\u001b[0m\u001b[0;34m[\u001b[0m\u001b[0;36m1\u001b[0m\u001b[0;34m]\u001b[0m\u001b[0;34m==\u001b[0m\u001b[0mK\u001b[0m\u001b[0;34m)\u001b[0m\u001b[0;34m\u001b[0m\u001b[0m\n",
            "\u001b[0;32m<ipython-input-9-adeeca4128e5>\u001b[0m in \u001b[0;36mimg2col_backward\u001b[0;34m(X, filter_height, filter_width, stride, padding)\u001b[0m\n\u001b[1;32m      7\u001b[0m     \u001b[0mindices\u001b[0m \u001b[0;34m=\u001b[0m \u001b[0mimg2col_indices\u001b[0m\u001b[0;34m(\u001b[0m\u001b[0;34m(\u001b[0m\u001b[0mH\u001b[0m\u001b[0;34m+\u001b[0m\u001b[0;36m2\u001b[0m\u001b[0;34m*\u001b[0m\u001b[0mpadding\u001b[0m\u001b[0;34m,\u001b[0m\u001b[0mW\u001b[0m\u001b[0;34m+\u001b[0m\u001b[0;36m2\u001b[0m\u001b[0;34m*\u001b[0m\u001b[0mpadding\u001b[0m\u001b[0;34m,\u001b[0m\u001b[0mD\u001b[0m\u001b[0;34m)\u001b[0m\u001b[0;34m,\u001b[0m\u001b[0mfilter_height\u001b[0m\u001b[0;34m,\u001b[0m\u001b[0mfilter_width\u001b[0m\u001b[0;34m,\u001b[0m\u001b[0mstride\u001b[0m\u001b[0;34m)\u001b[0m \u001b[0;31m#get Index array\u001b[0m\u001b[0;34m\u001b[0m\u001b[0m\n\u001b[1;32m      8\u001b[0m     \u001b[0mchannel\u001b[0m \u001b[0;34m=\u001b[0m \u001b[0mD\u001b[0m \u001b[0;31m#Number of channels in input\u001b[0m\u001b[0;34m\u001b[0m\u001b[0m\n\u001b[0;32m----> 9\u001b[0;31m     \u001b[0mX_row\u001b[0m \u001b[0;34m=\u001b[0m \u001b[0mX\u001b[0m\u001b[0;34m[\u001b[0m\u001b[0;34m:\u001b[0m\u001b[0;34m,\u001b[0m\u001b[0;34m:\u001b[0m\u001b[0;34m,\u001b[0m\u001b[0mindices\u001b[0m\u001b[0;34m[\u001b[0m\u001b[0;36m0\u001b[0m\u001b[0;34m]\u001b[0m\u001b[0;34m,\u001b[0m\u001b[0mindices\u001b[0m\u001b[0;34m[\u001b[0m\u001b[0;36m1\u001b[0m\u001b[0;34m]\u001b[0m\u001b[0;34m,\u001b[0m\u001b[0mindices\u001b[0m\u001b[0;34m[\u001b[0m\u001b[0;36m2\u001b[0m\u001b[0;34m]\u001b[0m\u001b[0;34m]\u001b[0m\u001b[0;34m\u001b[0m\u001b[0m\n\u001b[0m\u001b[1;32m     10\u001b[0m     \u001b[0mX_col\u001b[0m \u001b[0;34m=\u001b[0m \u001b[0mnp\u001b[0m\u001b[0;34m.\u001b[0m\u001b[0mtranspose\u001b[0m\u001b[0;34m(\u001b[0m\u001b[0mX_row\u001b[0m\u001b[0;34m.\u001b[0m\u001b[0mreshape\u001b[0m\u001b[0;34m(\u001b[0m\u001b[0;34m(\u001b[0m\u001b[0mN\u001b[0m\u001b[0;34m,\u001b[0m\u001b[0mC\u001b[0m\u001b[0;34m,\u001b[0m\u001b[0;34m-\u001b[0m\u001b[0;36m1\u001b[0m\u001b[0;34m,\u001b[0m\u001b[0mfilter_height\u001b[0m\u001b[0;34m*\u001b[0m\u001b[0mfilter_width\u001b[0m\u001b[0;34m*\u001b[0m\u001b[0mchannel\u001b[0m\u001b[0;34m)\u001b[0m\u001b[0;34m)\u001b[0m\u001b[0;34m,\u001b[0m\u001b[0;34m(\u001b[0m\u001b[0;36m0\u001b[0m\u001b[0;34m,\u001b[0m\u001b[0;36m1\u001b[0m\u001b[0;34m,\u001b[0m\u001b[0;36m3\u001b[0m\u001b[0;34m,\u001b[0m\u001b[0;36m2\u001b[0m\u001b[0;34m)\u001b[0m\u001b[0;34m)\u001b[0m\u001b[0;34m\u001b[0m\u001b[0m\n\u001b[1;32m     11\u001b[0m     \u001b[0;32mreturn\u001b[0m \u001b[0mX_col\u001b[0m\u001b[0;34m\u001b[0m\u001b[0m\n",
            "\u001b[0;31mKeyboardInterrupt\u001b[0m: "
          ]
        }
      ]
    },
    {
      "metadata": {
        "id": "CoEuln5DkJ0W",
        "colab_type": "code",
        "colab": {
          "base_uri": "https://localhost:8080/",
          "height": 361
        },
        "outputId": "ff91cdb1-e01b-4baa-d3ec-178df6b8e082"
      },
      "cell_type": "code",
      "source": [
        "plt.plot(cost_history[0],cost_history[1])\n",
        "plt.xlabel(\"Iterations\")\n",
        "plt.ylabel(\"Loss\")\n",
        "plt.savefig(\"cnngraph.jpg\")\n",
        "plt.show()"
      ],
      "execution_count": 27,
      "outputs": [
        {
          "output_type": "display_data",
          "data": {
            "image/png": "[encoded data removed]",
            "text/plain": [
              "<matplotlib.figure.Figure at 0x7f180b468a58>"
            ]
          },
          "metadata": {
            "tags": []
          }
        }
      ]
    },
    {
      "metadata": {
        "id": "OB8OXCB3kJ0s",
        "colab_type": "code",
        "colab": {}
      },
      "cell_type": "code",
      "source": [
        "y_hat = cnn.predict(x_test)"
      ],
      "execution_count": 0,
      "outputs": []
    },
    {
      "metadata": {
        "id": "le-6mfjzkJ01",
        "colab_type": "code",
        "colab": {
          "base_uri": "https://localhost:8080/",
          "height": 34
        },
        "outputId": "cb65d090-0028-4fb0-e293-6c5ab72c39bf"
      },
      "cell_type": "code",
      "source": [
        "accuracy = (np.sum(y_hat==y_test)/y_hat.size)*100\n",
        "print(\"Accuracy: \",accuracy,\"%\")"
      ],
      "execution_count": 29,
      "outputs": [
        {
          "output_type": "stream",
          "text": [
            "Accuracy:  97.26 %\n"
          ],
          "name": "stdout"
        }
      ]
    },
    {
      "metadata": {
        "id": "VDcyHRh0kJ1C",
        "colab_type": "text"
      },
      "cell_type": "markdown",
      "source": [
        "## 6. Using saved model"
      ]
    },
    {
      "metadata": {
        "id": "cNvPfJ9skJ1E",
        "colab_type": "code",
        "colab": {
          "base_uri": "https://localhost:8080/",
          "height": 34
        },
        "outputId": "0a8ea487-4a87-406a-bd28-722a76dafb94"
      },
      "cell_type": "code",
      "source": [
        "cnn.load_pretrained_model('trained_model.npz')\n",
        "pred = cnn.predict(x_test)\n",
        "accuracy = (np.sum(pred==y_test)/pred.size)*100\n",
        "print(\"Accuracy: \",accuracy,\"%\")"
      ],
      "execution_count": 46,
      "outputs": [
        {
          "output_type": "stream",
          "text": [
            "Accuracy:  97.26 %\n"
          ],
          "name": "stdout"
        }
      ]
    },
    {
      "metadata": {
        "id": "83eSlnpxkJ1d",
        "colab_type": "text"
      },
      "cell_type": "markdown",
      "source": [
        "## Predicting single random image"
      ]
    },
    {
      "metadata": {
        "id": "2VhVh4vAkJ1g",
        "colab_type": "code",
        "colab": {
          "base_uri": "https://localhost:8080/",
          "height": 364
        },
        "outputId": "a1dc8d6b-abb7-4b4c-aa2d-db90a95e893a"
      },
      "cell_type": "code",
      "source": [
        "i=random.randint(0,x_test.shape[0])\n",
        "x=x_test[i]\n",
        "plt.imshow(mnist[\"x_test\"][i],cmap='gray')\n",
        "plt.show()\n",
        "y_hat = cnn.predict(x)\n",
        "print(y_hat)"
      ],
      "execution_count": 45,
      "outputs": [
        {
          "output_type": "display_data",
          "data": {
            "image/png": "[encoded data removed]",
            "text/plain": [
              "<matplotlib.figure.Figure at 0x7f180899a9e8>"
            ]
          },
          "metadata": {
            "tags": []
          }
        },
        {
          "output_type": "stream",
          "text": [
            "[5]\n"
          ],
          "name": "stdout"
        }
      ]
    }
  ]
}